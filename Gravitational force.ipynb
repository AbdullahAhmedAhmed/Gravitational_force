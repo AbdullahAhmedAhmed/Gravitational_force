{
 "cells": [
  {
   "cell_type": "markdown",
   "id": "21354916",
   "metadata": {},
   "source": [
    "# Simple program to calculate  Gravitational force"
   ]
  },
  {
   "cell_type": "markdown",
   "id": "97f0d011",
   "metadata": {},
   "source": [
    "###### You can use them as example:\n",
    "###### First_Mass = 6.0*10**24\n",
    "###### Second_Mass = 7.34*10**22\n",
    "###### r_distance = 3.84*10**8"
   ]
  },
  {
   "cell_type": "code",
   "execution_count": 123,
   "id": "99a79086",
   "metadata": {},
   "outputs": [],
   "source": [
    "Gravitational_constant = float(6.67*10**-11)"
   ]
  },
  {
   "cell_type": "code",
   "execution_count": 126,
   "id": "8b225702",
   "metadata": {},
   "outputs": [
    {
     "name": "stdout",
     "output_type": "stream",
     "text": [
      "Enter the mass of the First object: 6.0*10**24\n",
      "Enter the mass of the Second object: 7.34*10**22\n",
      "Enter the distance between two objects: 3.84*10**8\n"
     ]
    }
   ],
   "source": [
    "First_Mass = input(\"Enter the mass of the First object: \")\n",
    "Second_Mass = input(\"Enter the mass of the Second object: \")\n",
    "r_distance = input(\"Enter the distance between two objects: \")"
   ]
  },
  {
   "cell_type": "code",
   "execution_count": 127,
   "id": "0dd3c113",
   "metadata": {},
   "outputs": [],
   "source": [
    "if(\"*\" in First_Mass):\n",
    "    First_Mass = First_Mass.split(\"*\")\n",
    "    First_Mass = list(filter(None, First_Mass))\n",
    "    First_Mass[0] = float(First_Mass[0])\n",
    "    First_Mass[1] = float(First_Mass[1])\n",
    "    First_Mass[2] = float(First_Mass[2])\n",
    "    First_Mass = First_Mass[0] * First_Mass[1] **First_Mass[2] \n",
    "else:\n",
    "    First_Mass = float(First_Mass)\n",
    "    print(First_Mass)"
   ]
  },
  {
   "cell_type": "code",
   "execution_count": 128,
   "id": "6801f2a4",
   "metadata": {},
   "outputs": [],
   "source": [
    "if('*' in Second_Mass):\n",
    "    Second_Mass = Second_Mass.split(\"*\")\n",
    "    Second_Mass = list(filter(None, Second_Mass))\n",
    "    Second_Mass[0] = float(Second_Mass[0])\n",
    "    Second_Mass[1] = float(Second_Mass[1])\n",
    "    Second_Mass[2] = float(Second_Mass[2])\n",
    "    Second_Mass = Second_Mass[0] * Second_Mass[1] **Second_Mass[2]\n",
    "else:\n",
    "    Second_Mass = float(Second_Mass)\n",
    "    print(Second_Mass)"
   ]
  },
  {
   "cell_type": "code",
   "execution_count": 129,
   "id": "b0abcbfb",
   "metadata": {},
   "outputs": [],
   "source": [
    "Length_of_r_distance = len(r_distance)\n",
    "if('*' in r_distance):\n",
    "    r_distance = r_distance.split(\"*\")\n",
    "    r_distance = list(filter(None, r_distance))\n",
    "    r_distance[0] = float(r_distance[0])\n",
    "    r_distance[1] = float(r_distance[1])\n",
    "    r_distance[2] = float(r_distance[2])\n",
    "    r_distance = r_distance[0] * r_distance[1] **r_distance[2]\n",
    "else:\n",
    "    r_distance = float(r_distance)\n",
    "    print(r_distance)"
   ]
  },
  {
   "cell_type": "code",
   "execution_count": 130,
   "id": "dbe701d6",
   "metadata": {},
   "outputs": [
    {
     "name": "stdout",
     "output_type": "stream",
     "text": [
      "The Gravitational Force = 1.9920979817708333e+20\n"
     ]
    }
   ],
   "source": [
    "Force_of_gravity = (Gravitational_constant*First_Mass*Second_Mass)/(r_distance**2)\n",
    "print(f\"The Gravitational Force = {Force_of_gravity}\" )"
   ]
  }
 ],
 "metadata": {
  "kernelspec": {
   "display_name": "Python 3 (ipykernel)",
   "language": "python",
   "name": "python3"
  },
  "language_info": {
   "codemirror_mode": {
    "name": "ipython",
    "version": 3
   },
   "file_extension": ".py",
   "mimetype": "text/x-python",
   "name": "python",
   "nbconvert_exporter": "python",
   "pygments_lexer": "ipython3",
   "version": "3.10.9"
  }
 },
 "nbformat": 4,
 "nbformat_minor": 5
}
